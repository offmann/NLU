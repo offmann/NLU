{
  "nbformat": 4,
  "nbformat_minor": 0,
  "metadata": {
    "colab": {
      "name": "NLU_french.ipynb",
      "version": "0.3.2",
      "provenance": [],
      "collapsed_sections": [],
      "include_colab_link": true
    },
    "kernelspec": {
      "name": "python3",
      "display_name": "Python 3"
    }
  },
  "cells": [
    {
      "cell_type": "markdown",
      "metadata": {
        "id": "view-in-github",
        "colab_type": "text"
      },
      "source": [
        "<a href=\"https://colab.research.google.com/github/offmann/NLU/blob/master/NLU_french.ipynb\" target=\"_parent\"><img src=\"https://colab.research.google.com/assets/colab-badge.svg\" alt=\"Open In Colab\"/></a>"
      ]
    },
    {
      "cell_type": "markdown",
      "metadata": {
        "id": "eK1DaqdAbILk",
        "colab_type": "text"
      },
      "source": [
        "##Environment Setup : "
      ]
    },
    {
      "cell_type": "code",
      "metadata": {
        "id": "zh5PptPWvjlh",
        "colab_type": "code",
        "colab": {}
      },
      "source": [
        "# Environment setup\n",
        "\n",
        "%%shell \n",
        "pip install rasa_nlu\n",
        "pip install rasa_nlu[spacy]\n",
        "pip install rasa_nlu[tensorflow]\n",
        "\n",
        "python3 -m spacy download fr_core_news_md\n",
        "python3 -m spacy link fr_core_news_md fr"
      ],
      "execution_count": 0,
      "outputs": []
    },
    {
      "cell_type": "code",
      "metadata": {
        "id": "Q4K_gwTCvm3x",
        "colab_type": "code",
        "outputId": "65d44a57-0608-415e-af72-86c62fac4613",
        "colab": {
          "base_uri": "https://localhost:8080/",
          "height": 17
        }
      },
      "source": [
        "%%shell\n",
        "mkdir -p test/data"
      ],
      "execution_count": 0,
      "outputs": [
        {
          "output_type": "execute_result",
          "data": {
            "text/plain": [
              ""
            ]
          },
          "metadata": {
            "tags": []
          },
          "execution_count": 3
        }
      ]
    },
    {
      "cell_type": "markdown",
      "metadata": {
        "id": "nQ8gUQ86a7NX",
        "colab_type": "text"
      },
      "source": [
        "## Definition of some common intentions : "
      ]
    },
    {
      "cell_type": "code",
      "metadata": {
        "id": "fPr-KsMlvwsK",
        "colab_type": "code",
        "colab": {}
      },
      "source": [
        "content = '''\n",
        "\n",
        "    ## intent:vente\n",
        "    - Vente [crédit](category)\n",
        "    - mise en place de [PEL](category)\n",
        "    - ouverture de compte cheque de mineur\n",
        "    - accord prêt (category)\n",
        "    - vente effectuée\n",
        "    - crédit conso mis en place\n",
        "\n",
        "    ## intent:pas_contact\n",
        "    - le client est injoignable\n",
        "    - je suis tombé sur la boite vocale\n",
        "    - Le client ne répond pas\n",
        "    - relance sans réponse\n",
        "\n",
        "    ## intent:clôture\n",
        "    - cloture compte\n",
        "    - résiliation contrat \n",
        "    - Fermeture de compte\n",
        "\n",
        "    ## intent:bilan\n",
        "    - Bilan fait\n",
        "    - point sur les dossiers\n",
        "    \n",
        "    '''\n",
        "\n",
        "\n",
        "open('test/data/nlu.md', 'w').write(content)"
      ],
      "execution_count": 0,
      "outputs": []
    },
    {
      "cell_type": "markdown",
      "metadata": {
        "id": "kU7jK5jxbPXE",
        "colab_type": "text"
      },
      "source": [
        "## Definition of the NLP pipeline and language : "
      ]
    },
    {
      "cell_type": "code",
      "metadata": {
        "id": "XwFqtnL2RZlc",
        "colab_type": "code",
        "colab": {}
      },
      "source": [
        "nlu_config = '''\n",
        "language: \"fr\"\n",
        "pipeline: \"tensorflow_embedding\"\n",
        "\n",
        "'''\n",
        "open('test/nlu_config.yml', 'w').write(nlu_config)"
      ],
      "execution_count": 0,
      "outputs": []
    },
    {
      "cell_type": "markdown",
      "metadata": {
        "id": "puYimU4AbeId",
        "colab_type": "text"
      },
      "source": [
        "## Train the model  : "
      ]
    },
    {
      "cell_type": "code",
      "metadata": {
        "id": "GJobqHCYReHj",
        "colab_type": "code",
        "colab": {}
      },
      "source": [
        "! python3 -m rasa_nlu.train -c test/nlu_config.yml --data test/data/nlu.md -o models --fixed_model_name nlu --project current --verbose"
      ],
      "execution_count": 0,
      "outputs": []
    },
    {
      "cell_type": "markdown",
      "metadata": {
        "id": "bVyu88ajbjhE",
        "colab_type": "text"
      },
      "source": [
        "## Model calling : "
      ]
    },
    {
      "cell_type": "code",
      "metadata": {
        "id": "HxGmsrodRptR",
        "colab_type": "code",
        "colab": {}
      },
      "source": [
        "import logging\n",
        "import pprint\n",
        "from rasa_nlu.training_data import load_data\n",
        "from rasa_nlu import config\n",
        "from rasa_nlu.model import Interpreter\n",
        "from rasa_nlu.test import run_evaluation\n",
        "\n",
        "\n",
        "logfile = 'nlu_model.log'\n",
        "\n",
        "\n",
        "def run_nlu(nlu_path):\n",
        "    logging.basicConfig(filename=logfile, level=logging.DEBUG)\n",
        "    interpreter = Interpreter.load(nlu_path)\n",
        "    \n",
        "    pprint.pprint(interpreter.parse(\" your example in french here\"))\n",
        "\n",
        "run_nlu('./models/current/nlu')"
      ],
      "execution_count": 0,
      "outputs": []
    }
  ]
}